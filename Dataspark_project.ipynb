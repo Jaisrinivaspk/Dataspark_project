{
  "nbformat": 4,
  "nbformat_minor": 0,
  "metadata": {
    "colab": {
      "provenance": [],
      "authorship_tag": "ABX9TyP32gjhN2OZq2Bzxifm0Ric",
      "include_colab_link": true
    },
    "kernelspec": {
      "name": "python3",
      "display_name": "Python 3"
    },
    "language_info": {
      "name": "python"
    }
  },
  "cells": [
    {
      "cell_type": "markdown",
      "metadata": {
        "id": "view-in-github",
        "colab_type": "text"
      },
      "source": [
        "<a href=\"https://colab.research.google.com/github/Jaisrinivaspk/Dataspark_project/blob/main/Dataspark_project.ipynb\" target=\"_parent\"><img src=\"https://colab.research.google.com/assets/colab-badge.svg\" alt=\"Open In Colab\"/></a>"
      ]
    },
    {
      "cell_type": "markdown",
      "source": [
        "# Dataspark EDA project\n"
      ],
      "metadata": {
        "id": "EQMg6tsdzym3"
      }
    },
    {
      "cell_type": "markdown",
      "source": [
        "Importing the Libraries\n"
      ],
      "metadata": {
        "id": "09YFiqnIVP_Z"
      }
    },
    {
      "cell_type": "code",
      "source": [
        "import pandas as pd\n",
        "import numpy as np\n",
        "import matplotlib.pyplot as plt\n",
        "import seaborn as sns\n",
        "from sqlalchemy import create_engine"
      ],
      "metadata": {
        "id": "4qNZ63X3VQ6R"
      },
      "execution_count": 1,
      "outputs": []
    },
    {
      "cell_type": "markdown",
      "source": [
        "1)Load All Datasets\n"
      ],
      "metadata": {
        "id": "R2ufCLQQ0s9w"
      }
    },
    {
      "cell_type": "code",
      "source": [
        "customers = pd.read_csv('Customers.csv', encoding='latin1')\n",
        "products = pd.read_csv('Products.csv', encoding='latin1')\n",
        "sales = pd.read_csv('Sales.csv', encoding='latin1')\n",
        "stores = pd.read_csv('Stores.csv', encoding='latin1')\n",
        "exchange_rates = pd.read_csv('Exchange_Rates.csv', encoding='latin1')"
      ],
      "metadata": {
        "id": "qO1vNInGVR9B"
      },
      "execution_count": 2,
      "outputs": []
    },
    {
      "cell_type": "markdown",
      "source": [
        "2)Data Cleaning and Preparation"
      ],
      "metadata": {
        "id": "-xSMLoavVSbM"
      }
    },
    {
      "cell_type": "code",
      "source": [
        "#CUSTOMERS\n",
        "customers = customers.dropna(subset=['State Code'])\n",
        "customers['Birthday'] = pd.to_datetime(customers['Birthday'], errors='coerce')\n",
        "for col in ['Gender','Name','City','State Code','State','Zip Code','Country','Continent']:\n",
        "    customers[col] = customers[col].astype(str).str.strip()\n",
        "\n",
        "#PRODUCTS\n",
        "products['Unit Cost USD'] = products['Unit Cost USD'].replace(r'[\\$,]', '', regex=True).astype(float)\n",
        "products['Unit Price USD'] = products['Unit Price USD'].replace(r'[\\$,]', '', regex=True).astype(float)\n",
        "\n",
        "#SALES\n",
        "sales['Order Date'] = pd.to_datetime(sales['Order Date'], errors='coerce')\n",
        "sales['Delivery Date'] = pd.to_datetime(sales['Delivery Date'], errors='coerce')\n",
        "\n",
        "#STORES\n",
        "stores['Square Meters'] = stores['Square Meters'].fillna(stores['Square Meters'].mean())\n",
        "stores['Open Date'] = pd.to_datetime(stores['Open Date'], errors='coerce')\n",
        "\n",
        "#EXCHANGE RATES\n",
        "exchange_rates['Date'] = pd.to_datetime(exchange_rates['Date'], errors='coerce')"
      ],
      "metadata": {
        "id": "hbnh2PIh1Guz"
      },
      "execution_count": 4,
      "outputs": []
    },
    {
      "cell_type": "markdown",
      "source": [
        "3)Save Cleaned Data"
      ],
      "metadata": {
        "id": "b7ohor1B1N5O"
      }
    },
    {
      "cell_type": "code",
      "source": [
        "customers.to_csv(\"clean_customers.csv\", index=False)\n",
        "products.to_csv(\"clean_products.csv\", index=False)\n",
        "sales.to_csv(\"clean_sales.csv\", index=False)\n",
        "stores.to_csv(\"clean_stores.csv\", index=False)\n",
        "exchange_rates.to_csv(\"clean_exchange_rates.csv\", index=False)"
      ],
      "metadata": {
        "id": "bQ46ImrR1MLU"
      },
      "execution_count": 5,
      "outputs": []
    },
    {
      "cell_type": "markdown",
      "source": [
        "4)Exploratory Data Analysis"
      ],
      "metadata": {
        "id": "yZ2Rouwc1NDG"
      }
    },
    {
      "cell_type": "code",
      "source": [
        "#4.1)CUSTOMER DEMOGRAPHICS\n",
        "\n",
        "# Gender distribution\n",
        "sns.countplot(data=customers, x='Gender')\n",
        "plt.title('Customer Gender Distribution')\n",
        "plt.show()\n",
        "# Age distribution\n",
        "customers['Age'] = (pd.Timestamp('today') - customers['Birthday']).dt.days // 365\n",
        "sns.histplot(customers['Age'].dropna(), bins=20)\n",
        "plt.title('Customer Age Distribution')\n",
        "plt.show()\n",
        "\n",
        "#4.2)SALES TRENDS OVER TIME\n",
        "\n",
        "# Orders per year\n",
        "sales['Order Year'] = sales['Order Date'].dt.year\n",
        "sales['Order Year'].value_counts().sort_index().plot(kind='bar')\n",
        "plt.title('Orders per Year')\n",
        "plt.xlabel('Year')\n",
        "plt.ylabel('Number of Orders')\n",
        "plt.show()\n",
        "\n",
        "#4.3)ORDERS BY CURRENCY\n",
        "sales['Currency Code'].value_counts().plot(kind='bar', color='skyblue')\n",
        "plt.title('Orders by Currency')\n",
        "plt.xlabel('Currency')\n",
        "plt.ylabel('Number of Orders')\n",
        "plt.show()\n",
        "\n",
        "#4.4)STORE SIZE DISTRIBUTION\n",
        "sns.histplot(stores['Square Meters'], bins=20, kde=True)\n",
        "plt.title('Distribution of Store Sizes')\n",
        "plt.xlabel('Square Meters')\n",
        "plt.ylabel('Number of Stores')\n",
        "plt.show()"
      ],
      "metadata": {
        "id": "VUbMZO0R1w_g"
      },
      "execution_count": null,
      "outputs": []
    },
    {
      "cell_type": "markdown",
      "source": [
        "5)Data Integration for Revenue Analysis"
      ],
      "metadata": {
        "id": "r28PYbQt3en3"
      }
    },
    {
      "cell_type": "code",
      "source": [
        "#Merge Sales and Products\n",
        "sales_products = pd.merge(\n",
        "    sales,\n",
        "    products[['ProductKey', 'Unit Price USD', 'Unit Cost USD', 'Product Name', 'Category', 'Subcategory']],\n",
        "    on='ProductKey',\n",
        "    how='left'\n",
        ")\n",
        "\n",
        "#Prepare Dates for Exchange Rate Merge\n",
        "sales_products['Order Date Str'] = sales_products['Order Date'].dt.strftime('%-m/%-d/%Y')\n",
        "exchange_rates['Date Str'] = exchange_rates['Date'].dt.strftime('%-m/%-d/%Y')\n",
        "\n",
        "#Merge with Exchange Rates\n",
        "sales_products = pd.merge(\n",
        "    sales_products,\n",
        "    exchange_rates.rename(columns={'Currency': 'Currency Code'}),\n",
        "    left_on=['Order Date Str', 'Currency Code'],\n",
        "    right_on=['Date Str', 'Currency Code'],\n",
        "    how='left'\n",
        ")\n",
        "\n",
        "#Calculate Revenue, Cost, Profit in USD\n",
        "sales_products['Revenue USD'] = sales_products['Unit Price USD'] * sales_products['Quantity'] / sales_products['Exchange']\n",
        "sales_products['Cost USD'] = sales_products['Unit Cost USD'] * sales_products['Quantity'] / sales_products['Exchange']\n",
        "sales_products['Profit USD'] = sales_products['Revenue USD'] - sales_products['Cost USD']\n",
        "\n",
        "# Save Integrated Data\n",
        "sales_products.to_csv('clean_sales_products.csv', index=False)"
      ],
      "metadata": {
        "id": "MCeWGIL711rZ"
      },
      "execution_count": 8,
      "outputs": []
    },
    {
      "cell_type": "markdown",
      "source": [
        "6)Load Data into SQL Database"
      ],
      "metadata": {
        "id": "HByx-6wk2Gvw"
      }
    },
    {
      "cell_type": "code",
      "source": [
        "engine = create_engine('sqlite:///global_electronics.db')\n",
        "customers.to_sql('customers', engine, if_exists='replace', index=False)\n",
        "products.to_sql('products', engine, if_exists='replace', index=False)\n",
        "sales.to_sql('sales', engine, if_exists='replace', index=False)\n",
        "stores.to_sql('stores', engine, if_exists='replace', index=False)\n",
        "exchange_rates.to_sql('exchange_rates', engine, if_exists='replace', index=False)\n",
        "sales_products.to_sql('sales_products', engine, if_exists='replace', index=False)\n"
      ],
      "metadata": {
        "id": "rQDmAXlQ2K6N"
      },
      "execution_count": null,
      "outputs": []
    },
    {
      "cell_type": "markdown",
      "source": [
        "# SQL QUERIES\n"
      ],
      "metadata": {
        "id": "jn8hsQ_L20Kr"
      }
    },
    {
      "cell_type": "markdown",
      "source": [
        "Importing"
      ],
      "metadata": {
        "id": "ASOZHHki26Gf"
      }
    },
    {
      "cell_type": "code",
      "source": [
        "import pandas as pd\n",
        "from sqlalchemy import create_engine"
      ],
      "metadata": {
        "id": "8acrOUD824HR"
      },
      "execution_count": 10,
      "outputs": []
    },
    {
      "cell_type": "markdown",
      "source": [
        "Connect to the Existing Database File"
      ],
      "metadata": {
        "id": "PGuuCjdt3KUR"
      }
    },
    {
      "cell_type": "code",
      "source": [
        "engine = create_engine('sqlite:///global_electronics.db')"
      ],
      "metadata": {
        "id": "rTXexz1K2-Ru"
      },
      "execution_count": 11,
      "outputs": []
    },
    {
      "cell_type": "markdown",
      "source": [
        "SQL Queries"
      ],
      "metadata": {
        "id": "AcDyg1uV3RtW"
      }
    },
    {
      "cell_type": "code",
      "source": [
        "#Get total sales by year\n",
        "query = \"\"\"\n",
        "SELECT strftime('%Y', [Order Date]) AS Year, SUM([Revenue USD]) AS Total_Revenue\n",
        "FROM sales_products\n",
        "GROUP BY Year\n",
        "ORDER BY Year;\n",
        "\"\"\"\n",
        "result = pd.read_sql(query, engine)\n",
        "print(result)\n",
        "\n",
        "#Demographic Distribution: Gender & Country\n",
        "query = \"\"\"\n",
        "SELECT Gender, Country, COUNT(*) AS Customer_Count\n",
        "FROM customers\n",
        "GROUP BY Gender, Country\n",
        "ORDER BY Country, Gender;\n",
        "\"\"\"\n",
        "print(pd.read_sql(query, engine))\n",
        "\n",
        "#Customer Age Distribution\n",
        "query = \"\"\"\n",
        "SELECT\n",
        "  (strftime('%Y', 'now') - strftime('%Y', Birthday)) AS Age,\n",
        "  COUNT(*) AS Count\n",
        "FROM customers\n",
        "WHERE Birthday IS NOT NULL\n",
        "GROUP BY Age\n",
        "ORDER BY Age;\n",
        "\"\"\"\n",
        "print(pd.read_sql(query, engine))\n"
      ],
      "metadata": {
        "colab": {
          "base_uri": "https://localhost:8080/"
        },
        "id": "xeXd40oi3Oib",
        "outputId": "e972367d-d642-4c9c-f810-8a7dfe6fdcc2"
      },
      "execution_count": 12,
      "outputs": [
        {
          "output_type": "stream",
          "name": "stdout",
          "text": [
            "   Year  Total_Revenue\n",
            "0  2016   7.235760e+06\n",
            "1  2017   7.712690e+06\n",
            "2  2018   1.337781e+07\n",
            "3  2019   1.863287e+07\n",
            "4  2020   9.491416e+06\n",
            "5  2021   1.080794e+06\n",
            "    Gender         Country  Customer_Count\n",
            "0   Female       Australia             721\n",
            "1     Male       Australia             699\n",
            "2   Female          Canada             755\n",
            "3     Male          Canada             798\n",
            "4   Female          France             351\n",
            "5     Male          France             319\n",
            "6   Female         Germany             734\n",
            "7     Male         Germany             739\n",
            "8   Female           Italy             315\n",
            "9     Male           Italy             320\n",
            "10  Female     Netherlands             345\n",
            "11    Male     Netherlands             388\n",
            "12  Female  United Kingdom             938\n",
            "13    Male  United Kingdom            1006\n",
            "14  Female   United States            3355\n",
            "15    Male   United States            3473\n",
            "    Age  Count\n",
            "0    24    184\n",
            "1    25    255\n",
            "2    26    236\n",
            "3    27    233\n",
            "4    28    216\n",
            "..  ...    ...\n",
            "63   87    223\n",
            "64   88    226\n",
            "65   88    245\n",
            "66   89    211\n",
            "67   90     59\n",
            "\n",
            "[68 rows x 2 columns]\n"
          ]
        }
      ]
    },
    {
      "cell_type": "code",
      "source": [],
      "metadata": {
        "id": "wrACEzJy3qtk"
      },
      "execution_count": null,
      "outputs": []
    }
  ]
}